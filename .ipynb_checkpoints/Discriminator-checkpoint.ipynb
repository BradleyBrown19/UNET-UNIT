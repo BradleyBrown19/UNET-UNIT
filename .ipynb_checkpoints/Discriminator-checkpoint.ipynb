{
 "cells": [
  {
   "cell_type": "code",
   "execution_count": null,
   "metadata": {},
   "outputs": [],
   "source": [
    "#default_exp discriminator"
   ]
  },
  {
   "cell_type": "code",
   "execution_count": 1,
   "metadata": {},
   "outputs": [],
   "source": [
    "#export\n",
    "#hide\n",
    "from nbdev.showdoc import show_doc"
   ]
  },
  {
   "cell_type": "code",
   "execution_count": null,
   "metadata": {},
   "outputs": [],
   "source": [
    "#export\n",
    "#hide\n",
    "from fastai import *\n",
    "from fastai.vision import *\n",
    "from fastai.callbacks import *\n",
    "from fastai.utils.mem import *\n",
    "from fastai.vision.gan import *\n",
    "from PIL import Image\n",
    "\n",
    "import numpy as np\n",
    "\n",
    "import torch\n",
    "import torch.nn.functional as F\n",
    "import torch.nn as nn\n",
    "\n",
    "from torch.utils.data import DataLoader\n",
    "from torch.utils.data.dataset import TensorDataset\n",
    "import pdb\n",
    "\n",
    "from pyfiles.building_blocks import *"
   ]
  },
  {
   "cell_type": "markdown",
   "metadata": {},
   "source": [
    "# Discriminator"
   ]
  },
  {
   "cell_type": "code",
   "execution_count": null,
   "metadata": {},
   "outputs": [],
   "source": [
    "#export\n",
    "class MultiUNITDiscriminator(nn.Module):\n",
    "    def __init__(self):\n",
    "        super(MultiUNITDiscriminator, self).__init__()\n",
    "        self.convs = nn.Sequential(\n",
    "            nn.Conv2d(3, 64, 3, 2, 1),\n",
    "            conv_and_res(64, 128),\n",
    "            conv_and_res(128, 256),\n",
    "            conv_and_res(256, 512),\n",
    "            nn.Conv2d(512, 1, 3, stride=1),\n",
    "            Flatten()\n",
    "        )\n",
    "    \n",
    "    def forward(self, not_switched, switched, down=2):\n",
    "\n",
    "        not_switched = self.convs(not_switched)\n",
    "        switched = self.convs(switched)\n",
    "\n",
    "        return (not_switched,switched)"
   ]
  }
 ],
 "metadata": {
  "kernelspec": {
   "display_name": "Python 3",
   "language": "python",
   "name": "python3"
  },
  "language_info": {
   "codemirror_mode": {
    "name": "ipython",
    "version": 3
   },
   "file_extension": ".py",
   "mimetype": "text/x-python",
   "name": "python",
   "nbconvert_exporter": "python",
   "pygments_lexer": "ipython3",
   "version": "3.7.2"
  }
 },
 "nbformat": 4,
 "nbformat_minor": 2
}
