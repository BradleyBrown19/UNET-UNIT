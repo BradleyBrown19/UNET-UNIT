{
 "cells": [
  {
   "cell_type": "code",
   "execution_count": null,
   "metadata": {},
   "outputs": [],
   "source": [
    "#hide\n",
    "from your_lib.core import *"
   ]
  },
  {
   "cell_type": "markdown",
   "metadata": {},
   "source": [
    "# UNET-UNIT\n",
    "\n",
    "> A modified deep learning architecture for very fast image 2 image translation, based primarily off of NVIDIA's UNIT\n"
   ]
  },
  {
   "cell_type": "markdown",
   "metadata": {},
   "source": [
    "![Winter to summer example](./winter2summer.png)\n",
    "![Live action to animation example](./animation2la.png)"
   ]
  },
  {
   "cell_type": "markdown",
   "metadata": {},
   "source": [
    "## How to use"
   ]
  },
  {
   "cell_type": "markdown",
   "metadata": {},
   "source": [
    "Clone the repo: \n",
    "```https://github.com/BradleyBrown19/UNET-UNIT.git```\n",
    "\n",
    "Run cells in 'Train.ipynb' notebook, replacing path with desidered dataset"
   ]
  }
 ],
 "metadata": {
  "kernelspec": {
   "display_name": "Python 3",
   "language": "python",
   "name": "python3"
  }
 },
 "nbformat": 4,
 "nbformat_minor": 2
}