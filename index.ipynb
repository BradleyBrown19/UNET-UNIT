{
 "cells": [
  {
   "cell_type": "code",
   "execution_count": null,
   "metadata": {},
   "outputs": [],
   "source": [
    "#hide\n",
    "from your_lib.core import *"
   ]
  },
  {
   "cell_type": "markdown",
   "metadata": {},
   "source": [
    "# UNET-UNIT\n",
    "\n",
    "> A modified deep learning architecture for very fast image 2 image translation, based primarily off of NVIDIA's UNIT\n"
   ]
  },
  {
   "cell_type": "markdown",
   "metadata": {},
   "source": [
    "## What is a UNET-UNIT??\n",
    "\n",
    "Great question! The goal of the architecture is to take images that are in different domains such as summer/winter, zebra/horses and learn a mapping from one image to another. A full explanation of the architecture can be found [here](https://medium.com/@theehiproject/unet-unit-for-fast-unsupervised-image2image-translation-using-fastai-e366408eddb4)\n",
    "\n",
    "## How to use\n",
    "\n",
    "1. Clone the repo: \n",
    "```https://github.com/BradleyBrown19/UNET-UNIT.git```\n",
    "\n",
    "2. Open notebook Train.ipynb \n",
    "\n",
    "3. Change path variable to location of dataset\n",
    "> Dataset should be organized by having a folder containing two directories called TrainA, TrainB\n",
    "![path variable](images/path_var.png)\n",
    "\n",
    "4. Run the rest of the cells and watch the magic happen!\n",
    "\n",
    "## Some results\n",
    "> After 2 epochs of training, approximately 5k iterations\n",
    "\n",
    "![Winter to summer example](images/winter2summer.png)\n",
    "![Live action to animation example](images/animation2la.png)\n",
    "\n",
    "## Credits\n",
    "\n",
    "This architecture is based off of [NVIDIA's UNIT](https://github.com/mingyuliutw/UNIT/tree/25e99afe267df6eea2c97d23b05a42683d75e53c) and lots of inspiration was drawn from the [fastai library](https://www.fast.ai/)."
   ]
  },
  {
   "cell_type": "markdown",
   "metadata": {},
   "source": [
    "## How to use"
   ]
  }
 ],
 "metadata": {
  "kernelspec": {
   "display_name": "Python 3",
   "language": "python",
   "name": "python3"
  }
 },
 "nbformat": 4,
 "nbformat_minor": 2
}