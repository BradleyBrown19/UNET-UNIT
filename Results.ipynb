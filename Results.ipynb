{
 "cells": [
  {
   "cell_type": "code",
   "execution_count": 1,
   "metadata": {},
   "outputs": [],
   "source": [
    "from fastai import *\n",
    "from fastai.vision import *\n",
    "from fastai.callbacks import *\n",
    "from fastai.utils.mem import *\n",
    "from fastai.vision.gan import *\n",
    "from PIL import Image\n",
    "\n",
    "import numpy as np\n",
    "\n",
    "import torch\n",
    "import torch.nn.functional as F\n",
    "import torch.nn as nn\n",
    "\n",
    "from torch.utils.data import DataLoader\n",
    "from torch.utils.data.dataset import TensorDataset\n",
    "import pdb"
   ]
  },
  {
   "cell_type": "markdown",
   "metadata": {},
   "source": [
    "# Results"
   ]
  },
  {
   "cell_type": "code",
   "execution_count": null,
   "metadata": {},
   "outputs": [],
   "source": [
    "#Show input images\n",
    "rows=2\n",
    "x,y = next(iter(data.train_dl))\n",
    "beforeA = torch.unbind(x[0], dim=0)[0].cpu()\n",
    "beforeA = im.Image(beforeA/2+0.5)\n",
    "beforeB = torch.unbind(x[1], dim=0)[0].cpu()\n",
    "beforeB = im.Image(beforeB/2+0.5)\n",
    "images = [beforeA, beforeB]\n",
    "fig, axs = plt.subplots(1,2,figsize=(8,8))\n",
    "for i, ax in enumerate(axs.flatten() if rows > 1 else [axs]):\n",
    "    images[i].show(ax=ax)\n",
    "plt.tight_layout()"
   ]
  },
  {
   "cell_type": "code",
   "execution_count": null,
   "metadata": {},
   "outputs": [],
   "source": [
    "#Show results\n",
    "pred = multiGan.gan_trainer.generator(x[0], x[1], True)\n",
    "predAA = pred[0]\n",
    "predBB = pred[1]\n",
    "predAB = pred[2]\n",
    "predBA = pred[3]\n",
    "predAA = im.Image(predAA.detach()/2+0.5)\n",
    "predBB = im.Image(predBB.detach()/2+0.5)\n",
    "predAB = im.Image(predAB.detach()/2+0.5)\n",
    "predBA = im.Image(predBA.detach()/2+0.5)\n",
    "images = [predAA, predAB, predBB, predBA]\n",
    "titles = [\"A to A\", \"A to B\", \"B to B\", \"B to A\"]\n",
    "fig, axs = plt.subplots(2,2,figsize=(8,8))\n",
    "for i, ax in enumerate(axs.flatten() if rows > 1 else [axs]):\n",
    "    images[i].show(ax=ax, title=titles[i])\n",
    "plt.tight_layout()"
   ]
  }
 ],
 "metadata": {
  "kernelspec": {
   "display_name": "Python 3",
   "language": "python",
   "name": "python3"
  },
  "language_info": {
   "codemirror_mode": {
    "name": "ipython",
    "version": 3
   },
   "file_extension": ".py",
   "mimetype": "text/x-python",
   "name": "python",
   "nbconvert_exporter": "python",
   "pygments_lexer": "ipython3",
   "version": "3.7.2"
  }
 },
 "nbformat": 4,
 "nbformat_minor": 2
}